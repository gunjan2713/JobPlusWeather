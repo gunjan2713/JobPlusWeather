{
  "nbformat": 4,
  "nbformat_minor": 0,
  "metadata": {
    "colab": {
      "provenance": [],
      "authorship_tag": "ABX9TyMxiRXT+KvF8eNTgVOLsYrm",
      "include_colab_link": true
    },
    "kernelspec": {
      "name": "python3",
      "display_name": "Python 3"
    },
    "language_info": {
      "name": "python"
    }
  },
  "cells": [
    {
      "cell_type": "markdown",
      "metadata": {
        "id": "view-in-github",
        "colab_type": "text"
      },
      "source": [
        "<a href=\"https://colab.research.google.com/github/gunjan2713/JobPlusWeather/blob/main/Project1.ipynb\" target=\"_parent\"><img src=\"https://colab.research.google.com/assets/colab-badge.svg\" alt=\"Open In Colab\"/></a>"
      ]
    },
    {
      "cell_type": "markdown",
      "source": [
        "Steps to follow:\n",
        "\n",
        "APIs:\n",
        "\n",
        "\n",
        "1.   Muse API\n",
        "2.   Geocoding API\n",
        "3.   Open Weather API\n",
        "\n",
        "Convert a city name to latitude and longitude using OpenCage Geocoding API.\n",
        "\n",
        "Geeting Weather information using Openweather Api\n",
        "\n",
        "Get all Jobs of the particular Location uisng Muse Api\n",
        "\n",
        "\n",
        "\n",
        "\n"
      ],
      "metadata": {
        "id": "1R7qHx9zhU6a"
      }
    },
    {
      "cell_type": "code",
      "execution_count": 62,
      "metadata": {
        "id": "uSXwTidOzGa8",
        "colab": {
          "base_uri": "https://localhost:8080/"
        },
        "outputId": "43f07cd1-885e-47e9-fcd0-33020daee5dc"
      },
      "outputs": [
        {
          "output_type": "stream",
          "name": "stdout",
          "text": [
            "success\n",
            "success\n"
          ]
        }
      ],
      "source": [
        "from google.colab import userdata\n",
        "\n",
        "MUSE_API_KEY = userdata.get('MUSE_API_KEY')\n",
        "OPENWEATHER_API_KEY = userdata.get('OPENWEATHER_API_KEY')\n",
        "GEOCODING_API_KEY =userdata.get('GEOCODING_API_KEY')\n",
        "\n",
        "# Checking if APIs are working\n",
        "if OPENWEATHER_API_KEY:\n",
        "  print(\"success\")\n",
        "else:\n",
        "  print('fail')\n",
        "if GEOCODING_API_KEY:\n",
        "  print(\"success\")\n",
        "else:\n",
        "  print('fail')\n",
        "\n",
        "# Saving all the URLs for future use\n",
        "MUSE_API_URL = \"https://www.themuse.com/api/public/jobs\"\n",
        "GEOCODING_API_URL = \"https://api.opencagedata.com/geocode/v1/json\"\n",
        "OPENWEATHER_API_URL = 'https://api.openweathermap.org/data/2.5/weather'"
      ]
    },
    {
      "cell_type": "markdown",
      "source": [
        " Convert a city name to latitude and longitude using OpenCage Geocoding API."
      ],
      "metadata": {
        "id": "4al5Olu7QI8U"
      }
    },
    {
      "cell_type": "code",
      "source": [
        "\n",
        "import requests\n",
        "\n",
        "def get_coordinates_from_location(location):\n",
        "    GEOCODING_API_URL=f'https://api.opencagedata.com/geocode/v1/json?q={location}&key={GEOCODING_API_KEY}'\n",
        "\n",
        "\n",
        "    response = requests.get(GEOCODING_API_URL)\n",
        "\n",
        "    data = response.json()\n",
        "    if data['results']:\n",
        "        lat = data['results'][0]['geometry']['lat']\n",
        "        lon = data['results'][0]['geometry']['lng']\n",
        "        return lat, lon\n",
        "    else:\n",
        "        print(f\"No results found for location: {location}\")\n",
        "        return None\n",
        "\n"
      ],
      "metadata": {
        "id": "QYz5V1YU-PgU"
      },
      "execution_count": 64,
      "outputs": []
    },
    {
      "cell_type": "markdown",
      "source": [
        "Geeting Weather information using Openweather Api"
      ],
      "metadata": {
        "id": "OwEckEH7iHR6"
      }
    },
    {
      "cell_type": "code",
      "source": [
        "import requests\n",
        "\n",
        "def get_weather_for_coordinates(lat, lon):\n",
        "\n",
        "    OPENWEATHER_API_URL = f'https://api.openweathermap.org/data/2.5/weather?lat={lat}&lon={lon}&units=metric&appid={OPENWEATHER_API_KEY}'\n",
        "\n",
        "    response = requests.get(OPENWEATHER_API_URL)\n",
        "\n",
        "    if response.status_code == 200:\n",
        "        data = response.json()\n",
        "        weather_description = data['weather'][0]['description']\n",
        "        temperature = data['main']['temp']\n",
        "\n",
        "        print(f\"Current weather in {location}: {weather_description}, {temperature}°C\\n\")\n",
        "    else:\n",
        "        print(f\"Failed to fetch weather data: {response.status_code}\")\n",
        "        return None\n",
        "\n",
        "\n"
      ],
      "metadata": {
        "id": "tvO-bnFAA1QP"
      },
      "execution_count": 65,
      "outputs": []
    },
    {
      "cell_type": "markdown",
      "source": [
        "Get all Jobs of the particular Location uisng Muse Api\n",
        "\n",
        "---\n",
        "\n"
      ],
      "metadata": {
        "id": "d-qujIlXiUNR"
      }
    },
    {
      "cell_type": "code",
      "source": [
        "import requests\n",
        "\n",
        "def get_jobs(location, page=2):\n",
        "    MUSE_API_URL = \"https://www.themuse.com/api/public/jobs\"\n",
        "\n",
        "  # parameters for the API request\n",
        "    params = {\n",
        "        'location': location,\n",
        "        'page': page\n",
        "    }\n",
        "\n",
        "# error handling using try and exept block\n",
        "    try:\n",
        "  # make the request with parameters\n",
        "        response = requests.get(MUSE_API_URL, params=params)\n",
        "        response.raise_for_status()\n",
        "        data = response.json()\n",
        "\n",
        "        if 'results' in data and data['results']:\n",
        "            print(f\"Jobs available in {location}:\")\n",
        "      # using loop to print all the jobs of a particular location\n",
        "            for job in data['results']:\n",
        "                job_title = job.get('name', 'N/A')\n",
        "                company = job['company'].get('name', 'N/A')\n",
        "              # Printing the information of a Job\n",
        "\n",
        "                print(f\"Job Title: {job_title}\")\n",
        "                print(f\"Company: {company}\")\n",
        "                print(\"-----------\")\n",
        "        else:\n",
        "            print(f\"No jobs found for location: {location}\")\n",
        "            return None\n",
        "    except requests.exceptions.RequestException as e:\n",
        "        print(f\"Failed to fetch jobs data: {e}\")\n",
        "        return None\n",
        "\n"
      ],
      "metadata": {
        "id": "PVAOfG0APU5U"
      },
      "execution_count": 71,
      "outputs": []
    },
    {
      "cell_type": "markdown",
      "source": [
        "Getting jobs and weather for a location, and displaying them"
      ],
      "metadata": {
        "id": "aJNGmMFQd7QQ"
      }
    },
    {
      "cell_type": "code",
      "source": [
        "\n",
        "def display_jobs_and_weather(location):\n",
        "\n",
        "    lat, lon = get_coordinates_from_location(location)\n",
        "    if lat is None or lon is None:\n",
        "        print(\"Unable to fetch coordinates for location.\")\n",
        "        return\n",
        "\n",
        "  # Fetch the weather data\n",
        "    weather_data = get_weather_for_coordinates(lat, lon)\n",
        "\n",
        "  # Fetch the job data\n",
        "    jobs_data = get_jobs(location)\n",
        "\n",
        "# taking input from user\n",
        "location = input(\"Enter the name of the city or location for jobs: \")\n",
        "display_jobs_and_weather(location)"
      ],
      "metadata": {
        "id": "ZyJZ8ZLrdrbL",
        "colab": {
          "base_uri": "https://localhost:8080/"
        },
        "outputId": "3674402c-97ac-4678-dee6-a85ddcf0514a"
      },
      "execution_count": 72,
      "outputs": [
        {
          "output_type": "stream",
          "name": "stdout",
          "text": [
            "Enter the name of the city or location for jobs: New York\n",
            "Current weather in New York: clear sky, 25.91°C\n",
            "\n",
            "Jobs available in New York:\n",
            "Job Title: Marketing Manager for Machine Builders\n",
            "Company: Siemens\n",
            "------------\n",
            "Job Title: Country Manager, Japan\n",
            "Company: Circle\n",
            "------------\n",
            "Job Title: Senior Power Systems Consultant (remote) - Transmission and Distribution\n",
            "Company: Siemens\n",
            "------------\n",
            "Job Title: Hospital Sales, Lab Diagnostics - Northwest\n",
            "Company: Siemens\n",
            "------------\n",
            "Job Title: VP, Global Capital Markets\n",
            "Company: Circle\n",
            "------------\n",
            "Job Title: Imaging Site Lead/Service Engineer (MarinHealth -Greenbrae, CA)\n",
            "Company: Philips\n",
            "------------\n",
            "Job Title: Principal Security Engineer, Security\n",
            "Company: Circle\n",
            "------------\n",
            "Job Title: Senior Digital Deployment Specialist - Smart Buildings - Northeast U.S. (REMOTE)\n",
            "Company: Siemens\n",
            "------------\n",
            "Job Title: Developer Relations Manager, Americas\n",
            "Company: Circle\n",
            "------------\n",
            "Job Title: Sr. Associate, Ocean Procurement & Allocation\n",
            "Company: Flexport\n",
            "------------\n",
            "Job Title: Senior Manager, Content Writer\n",
            "Company: Circle\n",
            "------------\n",
            "Job Title: Senior Director, Policy and Regulatory Strategy, LATAM   \n",
            "Company: Circle\n",
            "------------\n",
            "Job Title: Sr. Verification Consultant- Remote\n",
            "Company: Siemens\n",
            "------------\n",
            "Job Title: Threat Detection Engineer\n",
            "Company: Celonis\n",
            "------------\n",
            "Job Title: Simcenter 3D Application Support Engineer - REMOTE\n",
            "Company: Siemens\n",
            "------------\n",
            "Job Title: Territory Sales Manager, Cardiovascular Ultrasound - West\n",
            "Company: Siemens\n",
            "------------\n",
            "Job Title: Technology Partnerships Mid-level Program Manager - (Startups)\n",
            "Company: Siemens\n",
            "------------\n",
            "Job Title: Senior Director, Business Development, Americas\n",
            "Company: Circle\n",
            "------------\n",
            "Job Title: Staff Virtual Machine Engineer\n",
            "Company: Ava Labs\n",
            "------------\n",
            "Job Title: Senior Community Marketing Specialist\n",
            "Company: Circle\n",
            "------------\n"
          ]
        }
      ]
    },
    {
      "cell_type": "markdown",
      "source": [],
      "metadata": {
        "id": "_9ZYkmmuQzIv"
      }
    }
  ]
}