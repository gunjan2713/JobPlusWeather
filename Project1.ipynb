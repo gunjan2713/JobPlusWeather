{
  "nbformat": 4,
  "nbformat_minor": 0,
  "metadata": {
    "colab": {
      "provenance": [],
      "authorship_tag": "ABX9TyM/4TWBQ3XHdNnn519b3t+U",
      "include_colab_link": true
    },
    "kernelspec": {
      "name": "python3",
      "display_name": "Python 3"
    },
    "language_info": {
      "name": "python"
    }
  },
  "cells": [
    {
      "cell_type": "markdown",
      "metadata": {
        "id": "view-in-github",
        "colab_type": "text"
      },
      "source": [
        "<a href=\"https://colab.research.google.com/github/gunjan2713/Weather/blob/main/Project1.ipynb\" target=\"_parent\"><img src=\"https://colab.research.google.com/assets/colab-badge.svg\" alt=\"Open In Colab\"/></a>"
      ]
    },
    {
      "cell_type": "code",
      "execution_count": 19,
      "metadata": {
        "colab": {
          "base_uri": "https://localhost:8080/"
        },
        "id": "uSXwTidOzGa8",
        "outputId": "0bee1b53-b6c2-475a-bb92-998d20d00b45"
      },
      "outputs": [
        {
          "output_type": "stream",
          "name": "stdout",
          "text": [
            "success\n",
            "success\n"
          ]
        }
      ],
      "source": [
        "from google.colab import userdata\n",
        "\n",
        "\n",
        "OPENWEATHER_API_KEY = userdata.get('OPENWEATHER_API_KEY')\n",
        "GEOCODING_API_KEY =userdata.get('GEOCODING_API_KEY')\n",
        "\n",
        "if OPENWEATHER_API_KEY:\n",
        "  print(\"success\")\n",
        "else:\n",
        "  print('fail')\n",
        "if GEOCODING_API_KEY:\n",
        "  print(\"success\")\n",
        "else:\n",
        "  print('fail')\n",
        "\n",
        "GEOCODING_API_URL = \"https://api.opencagedata.com/geocode/v1/json\"\n",
        "OPENWEATHER_API_URL = 'https://api.openweathermap.org/data/2.5/weather'"
      ]
    },
    {
      "cell_type": "markdown",
      "source": [
        " Convert a city name to latitude and longitude using OpenCage Geocoding API."
      ],
      "metadata": {
        "id": "4al5Olu7QI8U"
      }
    },
    {
      "cell_type": "code",
      "source": [
        "import requests\n",
        "\n",
        "def get_coordinates_from_location(location):\n",
        "\n",
        "    params = {\n",
        "        'q': location,\n",
        "        'key': GEOCODING_API_KEY\n",
        "    }\n",
        "    try:\n",
        "        response = requests.get(GEOCODING_API_URL, params=params)\n",
        "        response.raise_for_status()\n",
        "        data = response.json()\n",
        "        if data['results']:\n",
        "            lat = data['results'][0]['geometry']['lat']\n",
        "            lon = data['results'][0]['geometry']['lng']\n",
        "            return lat, lon\n",
        "        else:\n",
        "            print(f\"No results found for location: {location}\")\n",
        "            return None\n",
        "    except requests.exceptions.RequestException as e:\n",
        "        print(f\"Error fetching coordinates: {e}\")\n",
        "        return None\n",
        "\n"
      ],
      "metadata": {
        "id": "tox5xk0kFEq0"
      },
      "execution_count": 20,
      "outputs": []
    },
    {
      "cell_type": "markdown",
      "source": [
        "\n",
        "\n",
        "Fetch weather data using OpenWeatherMap API based on the coordinates.\n",
        "\n"
      ],
      "metadata": {
        "id": "UUKF7DtOQ19T"
      }
    },
    {
      "cell_type": "code",
      "source": [
        "def get_weather_for_coordinates(lat, lon):\n",
        "\n",
        "    params = {\n",
        "        \"lat\": lat,\n",
        "        \"lon\": lon,\n",
        "        \"appid\": OPENWEATHER_API_KEY,\n",
        "        \"units\": \"metric\"\n",
        "    }\n",
        "    try:\n",
        "        response = requests.get(OPENWEATHER_API_URL, params=params)\n",
        "        response.raise_for_status()\n",
        "        return response.json()\n",
        "    except requests.exceptions.RequestException as e:\n",
        "        print(f\"Error fetching weather: {e}\")\n",
        "        return None\n"
      ],
      "metadata": {
        "id": "XWGihaXDQ0G_"
      },
      "execution_count": 21,
      "outputs": []
    },
    {
      "cell_type": "markdown",
      "source": [
        "Get lat/lon for the location and fetch corresponding weather data."
      ],
      "metadata": {
        "id": "j5zLCgAQdsU2"
      }
    },
    {
      "cell_type": "code",
      "source": [
        "def display_weather_for_location(location):\n",
        "\n",
        "    lat, lon = get_coordinates_from_location(location)\n",
        "    if lat is None or lon is None:\n",
        "        print(\"Unable to fetch coordinates for location.\")\n",
        "        return\n",
        "\n",
        "    weather_data = get_weather_for_coordinates(lat, lon)\n",
        "\n",
        "    if weather_data:\n",
        "        weather_description = weather_data['weather'][0]['description']\n",
        "        temperature = weather_data['main']['temp']\n",
        "        print(f\"Current weather in {location}: {weather_description}, {temperature}°C\\n\")\n",
        "    else:\n",
        "        print(\"Could not fetch weather data.\")\n",
        "\n",
        "location = input(\"Enter the name of the city or location: \")\n",
        "display_weather_for_location(location)\n"
      ],
      "metadata": {
        "colab": {
          "base_uri": "https://localhost:8080/"
        },
        "id": "ZyJZ8ZLrdrbL",
        "outputId": "3aa7d242-87fb-4aee-bb9d-a503244af99c"
      },
      "execution_count": 26,
      "outputs": [
        {
          "output_type": "stream",
          "name": "stdout",
          "text": [
            "Enter the name of the city or location: India\n",
            "Current weather in India: overcast clouds, 22.74°C\n",
            "\n"
          ]
        }
      ]
    },
    {
      "cell_type": "markdown",
      "source": [],
      "metadata": {
        "id": "_9ZYkmmuQzIv"
      }
    }
  ]
}